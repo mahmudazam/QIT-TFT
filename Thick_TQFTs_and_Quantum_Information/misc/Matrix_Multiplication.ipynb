{
 "cells": [
  {
   "cell_type": "markdown",
   "metadata": {},
   "source": [
    "\n",
    "### Matrix Multiplication as a Linear Map\n",
    "\n",
    "Multiplication of $n \\times n$ matrices is a bilinear map $M_n \\times M_n \\to M_n$\n",
    "and hence there exists a linear map $m : M_n \\otimes M_n \\to M_n$ such that\n",
    "$m(a \\otimes b) = ab$ for all $a, b \\in M_n$. We can generalize matrix multiplication\n",
    "as a map\n",
    "\n",
    "$$m_r : M_n \\otimes M_n \\to M_n : a \\otimes b \\mapsto arb$$\n",
    "\n",
    "for some invertible $r \\in M_n$, noting that this\n",
    "specializes to ordinary multiplication when $r$ is the $n \\times n$ identity matrix,\n",
    "$I_n$. We also note that this multiplication has unit $e_r : 1 \\mapsto r^{-1}$.\n",
    "\n",
    "Taking $\\otimes$ as the outer product, we can compute the matrix $M_r$ representing\n",
    "$m_r$ as follows.\n"
   ]
  },
  {
   "cell_type": "code",
   "execution_count": 1,
   "metadata": {},
   "outputs": [],
   "source": [
    "\n",
    "# These are just some helper algorithms:\n",
    "\n",
    "def decl(v, n):\n",
    "    \"\"\"\n",
    "    Declare symbolic variables\n",
    "    \"\"\"\n",
    "    return var(','.join([v + str(i) + str(j)\n",
    "        for i in range(1, n + 1)\n",
    "        for j in range(1, n + 1)\n",
    "    ])) if n > 1 else tuple([var(v + str(1) + str(1))])\n",
    "\n",
    "def kd(i, j):\n",
    "    \"\"\"\n",
    "    Kronecker delta\n",
    "    \"\"\"\n",
    "    return 1 if i == j else 0\n",
    "\n",
    "def I(n):\n",
    "    \"\"\"\n",
    "    n x n identity matrix\n",
    "    \"\"\"\n",
    "    return matrix([\n",
    "        [kd(i, j) for i in range(1, n + 1)]\n",
    "            for j in range(1, n + 1)\n",
    "    ])\n",
    "\n",
    "def m2v(M):\n",
    "    \"\"\"\n",
    "    Serialize M to a vector row-by-row\n",
    "    \"\"\"\n",
    "    m, n = M.dimensions()\n",
    "    return vector(\n",
    "        [ M[i][j] for i in range(m) for j in range(n) ]\n",
    "    )\n",
    "\n",
    "def v2m(v, m, n):\n",
    "    \"\"\"\n",
    "    Deserialize a vector v to an m x n matrix\n",
    "    \"\"\"\n",
    "    if (len(v) != m * n):\n",
    "        return None\n",
    "    else:\n",
    "        return matrix([\n",
    "                [ v[j] for j in range(i, i + n) ]\n",
    "                for i in range(0, m * n, n)\n",
    "            ])\n",
    "\n",
    "def matapply(f, P):\n",
    "    \"\"\"\n",
    "    Apply f to all elements of a matrix P\n",
    "    \"\"\"\n",
    "    return matrix([\n",
    "        [f(x) for x in row]\n",
    "            for row in P\n",
    "    ])\n",
    "\n",
    "def matsimpl(P):\n",
    "    \"\"\"\n",
    "    Simplify each entry of the matrix P\n",
    "    \"\"\"\n",
    "    return matapply(lambda x: x.expand().simplify_rational(), P)\n",
    "\n",
    "def mathat(Q):\n",
    "    \"\"\"\n",
    "    Left multiplicand of outer product giving matrix for\n",
    "    (A, B) |---> AQB\n",
    "    \"\"\"\n",
    "    Q = []\n",
    "    for i in range(N):\n",
    "        prefix = [0] * (N^2 * i)\n",
    "        suffix = [0] * (N^3 - N^2 - i*N^2)\n",
    "        Qi = vector(prefix + [R[i][j] for j in range(N) for i in range(N)] + suffix)\n",
    "        Q.append(Qi)\n",
    "    return matrix(Q)\n",
    "\n",
    "def norm(Q):\n",
    "    \"\"\"\n",
    "    Sum of the squares of all entries in Q\n",
    "    \"\"\"\n",
    "    return sum(sum(x * conjugate(x) for x in row) for row in Q)\n",
    "\n",
    "def matinv(Q):\n",
    "    \"\"\"\n",
    "    Compute the inverse of Q using Steve's God algorithm\n",
    "    \"\"\"\n",
    "    f = Q.charpoly()\n",
    "    cs = f.coefficients()\n",
    "    c = cs[0]\n",
    "    return (-1/c) * matsimpl(sum([ cs[i + 1] * Q^(i) for i in range(len(cs[1:])) ]))\n"
   ]
  },
  {
   "cell_type": "code",
   "execution_count": 2,
   "metadata": {},
   "outputs": [
    {
     "name": "stdout",
     "output_type": "stream",
     "text": [
      "Done\n"
     ]
    }
   ],
   "source": [
    "\n",
    "for N in range(1, 6):\n",
    "\n",
    "    a = decl('a', N)\n",
    "    b = decl('b', N)\n",
    "    r = decl('r', N)\n",
    "\n",
    "    A = v2m(a, N, N)\n",
    "    B = v2m(b, N, N)\n",
    "    R = v2m(r, N, N)\n",
    "\n",
    "    ARB = A * R * B\n",
    "#     show(matsimpl(ACB))\n",
    "\n",
    "    AoB = A.tensor_product(B)\n",
    "#     show(AoB)\n",
    "\n",
    "    M = mathat(R).tensor_product(I(N))\n",
    "    assert(matsimpl(v2m(M * m2v(AoB), N, N)) == matsimpl(ARB))\n",
    "\n",
    "print('Done')\n"
   ]
  },
  {
   "cell_type": "markdown",
   "metadata": {},
   "source": [
    "\n",
    "Given an $n \\times n$ matrix $r$, let $v(r)$ be the vector obtained by taking the entries\n",
    "of $r$ in lexicographic order of the indices and $0_n$ be the row vector consisting of $n$\n",
    "$0$'s. We then denote:\n",
    "\n",
    "$$\n",
    "\\hat{r} = \\begin{bmatrix}\n",
    "    v(r^T) & 0_n & \\dots & 0_n\\\\\n",
    "         0_n & v(r^T) & \\dots & 0_n\\\\\n",
    "    \\vdots & \\vdots & \\ddots & \\vdots\\\\\n",
    "         0_n & 0_n      & \\dots  & v(r^T)\n",
    "\\end{bmatrix}\n",
    "$$\n",
    "\n",
    "where $\\hat{r}$ has $n$ rows.\n",
    "\n",
    "If we view $M_n$ as $v(M_n) \\cong C^{n^2}$, then from the computation above,\n",
    "we can guess that the matrix $M_r$ is:\n",
    "\n",
    "$$\n",
    "\\hat{r} \\otimes I_n\n",
    "$$\n",
    "\n",
    "The adjoint $w_r := m_r^{\\dagger}$ is given by $W_r := M_r^{\\dagger}$:\n",
    "\n",
    "$$\n",
    "w_r : a \\mapsto W_cv(a)\n",
    "$$\n",
    "\n",
    "We can similarly compute $c_r := e_r^{\\dagger}$:\n",
    "\n",
    "$$\n",
    "c_r : a \\mapsto v(r^{-1})^Tv(a)\n",
    "$$\n",
    "\n",
    "We then verify the Frobenius laws."
   ]
  },
  {
   "cell_type": "code",
   "execution_count": 3,
   "metadata": {},
   "outputs": [
    {
     "name": "stdout",
     "output_type": "stream",
     "text": [
      "Done\n"
     ]
    }
   ],
   "source": [
    "\n",
    "def mltplr(R):\n",
    "    m, n = R.dimensions()\n",
    "    return mathat(R).tensor_product(I(m))\n",
    "\n",
    "for N in range(1, 4):\n",
    "    r = decl('r', N)\n",
    "    R = v2m(r, N, N)\n",
    "    M_R = mltplr(R)\n",
    "    W_R = M_R.conjugate_transpose()\n",
    "\n",
    "    assert((M_R.tensor_product(I(N^2))) * (I(N^2).tensor_product(W_R))\\\n",
    "           == W_R * M_R)\n",
    "    assert((I(N^2).tensor_product(M_R)) * (W_R.tensor_product(I(N^2)))\\\n",
    "           == W_R * M_R)\n",
    "\n",
    "print('Done')\n"
   ]
  },
  {
   "cell_type": "markdown",
   "metadata": {},
   "source": [
    "We then compute $W_rM_r$:"
   ]
  },
  {
   "cell_type": "code",
   "execution_count": 4,
   "metadata": {},
   "outputs": [
    {
     "name": "stdout",
     "output_type": "stream",
     "text": [
      "Done\n"
     ]
    }
   ],
   "source": [
    "\n",
    "for N in range(1, 6):\n",
    "    a = decl('a', N)\n",
    "    r = decl('r', N)\n",
    "    A = v2m(a, N, N)\n",
    "    R = v2m(r, N, N)\n",
    "    M_R = mltplr(R)\n",
    "    W_R = mltplr(R).conjugate_transpose()\n",
    "\n",
    "    assert(v2m(M_R * W_R * m2v(A), N, N) == norm(R) * A)\n",
    "\n",
    "print('Done')\n"
   ]
  },
  {
   "cell_type": "markdown",
   "metadata": {},
   "source": [
    "We now try to compute $e_r^{\\dagger}$:"
   ]
  },
  {
   "cell_type": "code",
   "execution_count": 5,
   "metadata": {},
   "outputs": [
    {
     "data": {
      "text/html": [
       "<html><script type=\"math/tex; mode=display\">\\newcommand{\\Bold}[1]{\\mathbf{#1}}-a_{33} r_{12} r_{21} + a_{23} r_{13} r_{21} + a_{33} r_{11} r_{22} - a_{13} r_{13} r_{22} - a_{23} r_{11} r_{23} + a_{13} r_{12} r_{23} + a_{32} r_{12} r_{31} - a_{22} r_{13} r_{31} - a_{31} r_{22} r_{31} + a_{21} r_{23} r_{31} - a_{32} r_{11} r_{32} + a_{12} r_{13} r_{32} + a_{31} r_{21} r_{32} - a_{11} r_{23} r_{32} + a_{22} r_{11} r_{33} - a_{12} r_{12} r_{33} - a_{21} r_{21} r_{33} + a_{11} r_{22} r_{33}</script></html>"
      ],
      "text/plain": [
       "-a33*r12*r21 + a23*r13*r21 + a33*r11*r22 - a13*r13*r22 - a23*r11*r23 + a13*r12*r23 + a32*r12*r31 - a22*r13*r31 - a31*r22*r31 + a21*r23*r31 - a32*r11*r32 + a12*r13*r32 + a31*r21*r32 - a11*r23*r32 + a22*r11*r33 - a12*r12*r33 - a21*r21*r33 + a11*r22*r33"
      ]
     },
     "metadata": {},
     "output_type": "display_data"
    }
   ],
   "source": [
    "\n",
    "N = 3\n",
    "a = decl('a', N)\n",
    "r = decl('r', N)\n",
    "A = v2m(a, N, N)\n",
    "R = v2m(r, N, N)\n",
    "Rinv = matinv(R)\n",
    "\n",
    "# show(Rinv.conjugate())\n",
    "\n",
    "Rdag = matsimpl(matrix(m2v(Rinv.conjugate())))\n",
    "\n",
    "# M = mltplr(R)\n",
    "# W = M.conjugate_transpose()\n",
    "\n",
    "show((R.conjugate().determinant() * Rdag * m2v(A))[0]\\\n",
    "       .simplify_rational()\\\n",
    "       .expand()\\\n",
    "       .simplify())\n"
   ]
  },
  {
   "cell_type": "code",
   "execution_count": null,
   "metadata": {},
   "outputs": [],
   "source": []
  }
 ],
 "metadata": {
  "kernelspec": {
   "display_name": "SageMath 8.1",
   "language": "",
   "name": "sagemath"
  },
  "language_info": {
   "codemirror_mode": {
    "name": "ipython",
    "version": 2
   },
   "file_extension": ".py",
   "mimetype": "text/x-python",
   "name": "python",
   "nbconvert_exporter": "python",
   "pygments_lexer": "ipython2",
   "version": "2.7.17"
  }
 },
 "nbformat": 4,
 "nbformat_minor": 2
}
